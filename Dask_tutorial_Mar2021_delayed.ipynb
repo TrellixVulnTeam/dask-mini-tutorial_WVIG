{
 "cells": [
  {
   "cell_type": "markdown",
   "metadata": {
    "id": "h82o5fIIOQ53"
   },
   "source": [
    "# Introduction to Dask\n",
    "by Dr Stef Garasto\n",
    "\n",
    "<p>\n",
    "Dask is a popular python library for parallel computing. It is designed to integrate easily with existing python code and other common libraries like Numpy and Pandas. During this introductory tutorial you will get to know some fundamental Dask functions, like dask.delayed and dask.dataframe, and workflows. There will also be some hands-on coding exercises for you to practice your newfound Dask knowledge. \n",
    "</p>\n",
    "\n",
    "### References (and sources of inspiration):\n",
    "[1] Dask Tutorial by https://github.com/dask/dask-tutorial/\n",
    "\n",
    "[2] Dask documentation https://docs.dask.org/en/latest/"
   ]
  },
  {
   "cell_type": "markdown",
   "metadata": {
    "id": "OYOpvjnuSQJa"
   },
   "source": [
    "Technical reminder: press shift-enter to execute single cells in this notebook."
   ]
  },
  {
   "cell_type": "markdown",
   "metadata": {
    "id": "vzXmQA-8bhAw"
   },
   "source": [
    "# Setup"
   ]
  },
  {
   "cell_type": "code",
   "execution_count": null,
   "metadata": {
    "id": "ZHPSe3jgOKhZ"
   },
   "outputs": [],
   "source": [
    "# Setup\n",
    "LOCAL = True\n",
    "if not LOCAL:\n",
    "    # Install some requirements\n",
    "    !pip install snakeviz\n",
    "    %pip install \"tornado>=5\" \n",
    "    !pip -q install dask\n",
    "    !pip -q install distributed\n",
    "    #!pip -q install --upgrade --ignore-installed numpy pandas scipy sklearn\n",
    "    !pip -q install graphviz \n",
    "    !apt-get install graphviz -qq\n",
    "    !pip -q install pydot\n",
    "    !pip -q install bokeh\n"
   ]
  },
  {
   "cell_type": "code",
   "execution_count": null,
   "metadata": {
    "id": "7NqVE9F1ML43"
   },
   "outputs": [],
   "source": [
    "if not LOCAL:\n",
    "    # to get the data\n",
    "    !git clone https://github.com/stefgrs/dask-mini-tutorial"
   ]
  },
  {
   "cell_type": "code",
   "execution_count": null,
   "metadata": {
    "id": "ki9CvItHQZIl"
   },
   "outputs": [],
   "source": [
    "# setup the Dask scheduler (just go with it for now!)\n",
    "from dask.distributed import Client, progress\n",
    "\n",
    "client = Client(n_workers=4, processes = False)\n",
    "client\n",
    "\n"
   ]
  },
  {
   "cell_type": "markdown",
   "metadata": {
    "id": "nrMqvx-ZUinS"
   },
   "source": [
    "# Dask delayed\n",
    "\n",
    "\n",
    "dask.delayed is a Dask interface that allows users to parallelise custom algorithms with a light annotation of normal python code."
   ]
  },
  {
   "cell_type": "code",
   "execution_count": null,
   "metadata": {
    "id": "w0vItbX4SGkv"
   },
   "outputs": [],
   "source": [
    "from dask import delayed"
   ]
  },
  {
   "cell_type": "code",
   "execution_count": null,
   "metadata": {
    "id": "SrI1EqKESGq4"
   },
   "outputs": [],
   "source": [
    "from time import sleep\n",
    "\n",
    "# define some auxiliary functions - we simulate computational time with the 'sleep' function\n",
    "def inc(x):\n",
    "    sleep(1)\n",
    "    return x + 1\n",
    "\n",
    "def add(x, y):\n",
    "    sleep(1)\n",
    "    return x + y\n"
   ]
  },
  {
   "cell_type": "markdown",
   "metadata": {
    "id": "beVrGdWyU-Pa"
   },
   "source": [
    "Note: the command '%%time' will measure the time execution of all the python statements in a cell. It prints two values: the CPU time and the Wall time. CPU time is the time that the CPU was busy. Wall time is the overall time that it took for the code to execute (it includes the time the CPU was busy and the time spent waiting)."
   ]
  },
  {
   "cell_type": "code",
   "execution_count": null,
   "metadata": {
    "id": "ohILgMQnSGnT"
   },
   "outputs": [],
   "source": [
    "%%time\n",
    "# This takes three seconds to run because we call each\n",
    "# function sequentially, one after the other\n",
    "\n",
    "x = inc(1)\n",
    "y = inc(2)\n",
    "z = add(x, y)\n",
    "\n",
    "print(f'The final sum is {z}')\n"
   ]
  },
  {
   "cell_type": "code",
   "execution_count": null,
   "metadata": {
    "id": "IBJyqOR8SGiP"
   },
   "outputs": [],
   "source": [
    "%%time\n",
    "# When we use 'delayed' we are telling Dask to perform these computations in a \n",
    "# lazy way. Unless explicitely asked, Dask will only build a description of the \n",
    "# computations needed to obtain the desired result, but it will not do the \n",
    "# computation itself - not yet at least! \n",
    "#  \n",
    "\n",
    "del_x = delayed(inc)(1)\n",
    "del_y = delayed(inc)(2)\n",
    "del_z = delayed(add)(del_x, del_y)\n"
   ]
  },
  {
   "cell_type": "markdown",
   "metadata": {
    "id": "AcqGHLg7M0_0"
   },
   "source": [
    "It didn't take long now, did it?\n",
    "But wait..."
   ]
  },
  {
   "cell_type": "code",
   "execution_count": null,
   "metadata": {
    "id": "o3HoYd_LBuBo"
   },
   "outputs": [],
   "source": [
    "# What is the difference from before? What do all the variables look like?\n",
    "print(f\"Without applying 'delayed' the variables x, y, z are {x}, {y}, {z}\")\n",
    "print(f\"Applying 'delayed' the delayed variables x, y, z are {del_x}, {del_y}, {del_z}\")\n"
   ]
  },
  {
   "cell_type": "code",
   "execution_count": null,
   "metadata": {
    "id": "d1fQme3FSGLI"
   },
   "outputs": [],
   "source": [
    "# What does the computation graph look like?\n",
    "\n",
    "del_z.visualize()\n"
   ]
  },
  {
   "cell_type": "code",
   "execution_count": null,
   "metadata": {
    "id": "2llY2d5RSGZ6"
   },
   "outputs": [],
   "source": [
    "%%time\n",
    "# What happens when we tell Dask to execute the computation?\n",
    "z_exec = del_z.compute()\n",
    "print(f'The final sum is {z_exec}')\n"
   ]
  },
  {
   "cell_type": "code",
   "execution_count": null,
   "metadata": {
    "id": "O0o614pR--Hq"
   },
   "outputs": [],
   "source": [
    "'''\n",
    "We can use dask.delayed in two different ways:\n",
    "- as a wrapper around a function, as we saw in the cell above, i.e. delayed(inc)\n",
    "- as a decorator associated with a function, as you can see below in this cell.\n",
    "\n",
    "When using it as a wrapper, only the instances of a function that are wrapped \n",
    "with delayed will actually be delayed.\n",
    "When using it as a decorator, all the instances will be delayed.\n",
    "\n",
    "@delayed\n",
    "def inc(x):\n",
    "    return x + 1\n",
    "\n",
    "@delayed\n",
    "def add(x, y):\n",
    "    return x + y\n",
    "'''\n",
    "print()\n"
   ]
  },
  {
   "cell_type": "markdown",
   "metadata": {
    "id": "bZKVDtuKalJG"
   },
   "source": [
    "If you want to see how Dask visualises what's happening in the background of this computation have a look at [this video](https://www.youtube.com/watch?v=SHqFmynRxVU&feature=youtu.be)."
   ]
  },
  {
   "cell_type": "markdown",
   "metadata": {
    "id": "F5ZuhqEGC6Dv"
   },
   "source": [
    "## Dask delayed hands-on\n",
    "\n",
    "Over to you with a slightly more complicated example."
   ]
  },
  {
   "cell_type": "markdown",
   "metadata": {
    "id": "gjH-MAlfVWc9"
   },
   "source": [
    "Background:\n",
    "\n",
    "Let's assume we run an experiment where we split participants in two groups (one with 60% of participants, one with 40%), gave them a test and collected the average score for each group separately.\n",
    "We saved these scores in two separate files, and the sizes of the two groups (as proportions, that is 0.6 and 0.4) in two other files. We want to load the numbers from files and compute the weighted average of the\n",
    "final group scores.\n"
   ]
  },
  {
   "cell_type": "code",
   "execution_count": null,
   "metadata": {
    "id": "FkdiRbPwVQBZ"
   },
   "outputs": [],
   "source": [
    "%%time\n",
    "# Translated into standard python, we can get the weighted average like this:\n",
    "\n",
    "import os\n",
    "\n",
    "data_folder = 'data/'\n",
    "scores_file_names = os.path.join(data_folder, 'score_group{x}.txt')\n",
    "weights_file_names = os.path.join(data_folder,'weight_group{x}.txt')\n",
    "\n",
    "# defining custom function \n",
    "# again we will pretend they are more computationally expensive than they actually are\n",
    "def load_value_from_text(file_name):\n",
    "    with open(file_name, 'r') as f:\n",
    "        data = f.read()\n",
    "    sleep(1)\n",
    "    return float(data)\n",
    "\n",
    "def mul(x,y):\n",
    "    sleep(1)\n",
    "    return x*y\n",
    "\n",
    "def add_list(input_list):\n",
    "    sleep(1)\n",
    "    return sum(input_list)\n",
    "\n",
    "# load numbers from files\n",
    "survey_scores = [load_value_from_text(scores_file_names.format(x=i+1)) for i in range(2)]\n",
    "survey_weights = [load_value_from_text(weights_file_names.format(x=i+1)) for i in range(2)]\n",
    "\n",
    "# multiply the average score for each group by the group proportion wrt the total\n",
    "# number of participants\n",
    "intermediate_scores = []\n",
    "for score, weight in zip(survey_scores, survey_weights):\n",
    "    intermediate_scores.append(mul(score,weight))\n",
    "\n",
    "# sum the weighted scores to obtain the weighted average\n",
    "total = add_list(intermediate_scores)\n",
    "\n",
    "# show the result:\n",
    "total\n"
   ]
  },
  {
   "cell_type": "markdown",
   "metadata": {
    "id": "2IBHoOCKU7wx"
   },
   "source": [
    "### Exercise 1: apply delayed to the computation\n",
    "\n",
    "Will give you a few minutes to write your code, then I will show the solution."
   ]
  },
  {
   "cell_type": "code",
   "execution_count": null,
   "metadata": {
    "id": "k6fa3aZnUzVC"
   },
   "outputs": [],
   "source": [
    "%%time\n",
    "# load numbers from files\n",
    "######################\n",
    "### Your code here ###\n",
    "######################\n",
    "\n",
    "# multiply the average score for each group by the group proportion wrt the total\n",
    "# number of participants\n",
    "intermediate_scores = []\n",
    "for score, weight in zip(survey_scores, survey_weights):\n",
    "######################\n",
    "### Your code here ###\n",
    "######################\n",
    "\n",
    "# sum the weighted scores to obtain the weighted average\n",
    "######################\n",
    "### Your code here ###\n",
    "######################\n"
   ]
  },
  {
   "cell_type": "markdown",
   "metadata": {
    "id": "ITfBSmM8Vrdt"
   },
   "source": [
    "### Excercise 2: what does the computation graph look like?\n",
    "Is it graph A or graph B? Post your answers in the chat.\n",
    "\n",
    "![picture](https://drive.google.com/uc?export=view&id=1IAhtcSphBaLUIfViTknBMjMtIBk-LHXG)"
   ]
  },
  {
   "cell_type": "code",
   "execution_count": null,
   "metadata": {
    "id": "0nXIjvSEOrZN"
   },
   "outputs": [],
   "source": [
    "# let's see what it looks like\n",
    "######################\n",
    "### Your code here ###\n",
    "######################\n"
   ]
  },
  {
   "cell_type": "markdown",
   "metadata": {
    "id": "wk_u_FbVVzeJ"
   },
   "source": [
    "### Excercise 3: how long do you think Dask will take to compute the results?\n",
    "Post your answers in the chat"
   ]
  },
  {
   "cell_type": "code",
   "execution_count": null,
   "metadata": {
    "id": "dOdYSWp0OA0J"
   },
   "outputs": [],
   "source": [
    "%%time\n",
    "# let's see how long it'll take\n",
    "######################\n",
    "### Your code here ###\n",
    "######################\n"
   ]
  },
  {
   "cell_type": "markdown",
   "metadata": {
    "id": "L23XqTi_Epwk"
   },
   "source": [
    "## Dask delayed notes\n",
    "\n",
    "\n",
    "1. Operations that are supported on delayed objects include the following:\n",
    "\n",
    "\n",
    "*   If x is a delayed result, then performing arithmetic operations on it also produces a delayed result.\n",
    "*   Slicing a delayed object also produces a delayed object.\n",
    "*   If x is a delayed object with methods and attributes we can access, those will also be delayed objects.\n",
    "\n",
    "2.   Operations which are not supported include iteration (for) and bool (predicate).\n",
    "\n",
    "3.   Calling delayed_obj.compute() works well for single outputs, but for multiple outputs it might be best to use the dask.compute function.\n",
    "\n",
    "So, for example...\n"
   ]
  },
  {
   "cell_type": "code",
   "execution_count": null,
   "metadata": {
    "id": "bI89FS0-EsYk"
   },
   "outputs": [],
   "source": [
    "import numpy as np\n",
    "# let's get our old friends back...\n",
    "del_x = delayed(inc)(1)\n",
    "del_y = delayed(inc)(2)\n",
    "del_z = delayed(add)(del_x, del_y)\n",
    "\n",
    "# ... and some new ones\n",
    "del_range = delayed(np.arange)(10)\n"
   ]
  },
  {
   "cell_type": "code",
   "execution_count": null,
   "metadata": {
    "id": "8Rv-Sikjin0Y"
   },
   "outputs": [],
   "source": [
    "# let's check what's still a delayed object\n",
    "# arithmetic operations\n",
    "print(type(del_z+1))\n",
    "print(type(del_z*10))\n",
    "\n",
    "# method calls\n",
    "print(type(del_range.shape))\n",
    "\n",
    "# slicing\n",
    "print(type(del_range[::2]))\n"
   ]
  },
  {
   "cell_type": "code",
   "execution_count": null,
   "metadata": {
    "id": "9JKLMoL2jmvR"
   },
   "outputs": [],
   "source": [
    "from dask import compute\n",
    "\n",
    "def sleeping_square(x):\n",
    "    sleep(1)\n",
    "    return x ** 2\n",
    "\n",
    "square_range = delayed(sleeping_square)(np.arange(10))\n",
    "square_range\n"
   ]
  },
  {
   "cell_type": "code",
   "execution_count": null,
   "metadata": {
    "id": "Yi3RXyt6kcz8"
   },
   "outputs": [],
   "source": [
    "%%time\n",
    "#calling compute this way means that Dask can make good use of shared intermediate values\n",
    "del_min, del_max = compute(square_range.min(), square_range.max()) \n",
    "\n",
    "print(f'Min: {del_min}, Max: {del_max}')\n"
   ]
  },
  {
   "cell_type": "code",
   "execution_count": null,
   "metadata": {
    "id": "lHITEr4vkdG4"
   },
   "outputs": [],
   "source": [
    "%%time\n",
    "#compare with this:\n",
    "del_min2, del_max2 = (square_range.min().compute(), square_range.max().compute())\n"
   ]
  },
  {
   "cell_type": "markdown",
   "metadata": {
    "id": "pUy8keg3C2HO"
   },
   "source": [
    "What <b>can't</b> we apply dask.delayed to?\n",
    "\n",
    "In order to build the computation graph, dask needs to know what function it has to call.\n",
    "\n",
    "When the choice of the function to use depend on a boolean condition (True or False), then Dask only knows which function to use if it knows the outcome of the boolean condition. If this is the case, do you think we can call delayed on the boolean function as well?\n",
    "\n",
    "Let's see..."
   ]
  },
  {
   "cell_type": "code",
   "execution_count": null,
   "metadata": {
    "id": "1i0-81sMXHC1"
   },
   "outputs": [],
   "source": [
    "%%time\n",
    "\n",
    "# Let's consider this conditional for loop\n",
    "\n",
    "def is_even(x):\n",
    "    return x % 2\n",
    "\n",
    "intermediate_res = []\n",
    "for i in range(10):\n",
    "    if is_even(i):\n",
    "        y = inc(i)\n",
    "    else:\n",
    "        y = sleeping_square(i)\n",
    "    intermediate_res.append(y)\n",
    "\n",
    "total = sum(intermediate_res)\n"
   ]
  },
  {
   "cell_type": "code",
   "execution_count": null,
   "metadata": {
    "id": "vzguONDxtCpU"
   },
   "outputs": [],
   "source": [
    "# First, let's parallelise it using dask.delayed\n",
    "# try it out for yourself!\n",
    "%%time\n",
    "intermediate_res = []\n",
    "for i in range(6):\n",
    "######################\n",
    "### Your code here ###\n",
    "######################\n"
   ]
  },
  {
   "cell_type": "code",
   "execution_count": null,
   "metadata": {
    "id": "M_4GcbRPtpFG"
   },
   "outputs": [],
   "source": [
    "# what does the graph look like?\n",
    "total.visualize()\n"
   ]
  },
  {
   "cell_type": "code",
   "execution_count": null,
   "metadata": {
    "id": "DDmEi0eitY9m"
   },
   "outputs": [],
   "source": [
    "# how long does the computation take?\n",
    "%%time\n",
    "total.compute()\n"
   ]
  },
  {
   "cell_type": "code",
   "execution_count": null,
   "metadata": {
    "id": "y7whvrJyx22n"
   },
   "outputs": [],
   "source": [
    "# What would have happened if we had tried to call delayed on the if condition?\n",
    "intermediate_res = []\n",
    "for i in range(6):\n",
    "    if delayed(is_even)(i):\n",
    "        y = delayed(inc)(i)\n",
    "    else:\n",
    "        y = delayed(sleeping_square)(i)\n",
    "    intermediate_res.append(y)\n",
    "\n",
    "#total = delayed(sum)(intermediate_res)\n",
    "total = delayed(sum)(intermediate_res)\n"
   ]
  },
  {
   "cell_type": "markdown",
   "metadata": {
    "id": "c_mozwaTDDI8"
   },
   "source": [
    "## The speed-up of dask delayed is hardware dependent"
   ]
  },
  {
   "cell_type": "code",
   "execution_count": null,
   "metadata": {
    "id": "6FUykvZgwQdW"
   },
   "outputs": [],
   "source": [
    "def long_sum(n = 10):\n",
    "    intermediate_res = []\n",
    "    for i in range(n):\n",
    "        if is_even(i):\n",
    "            y = delayed(inc)(i)\n",
    "        else:\n",
    "            y = delayed(sleeping_square)(i)\n",
    "        intermediate_res.append(y)\n",
    "\n",
    "    total = delayed(sum)(intermediate_res)\n",
    "    return total\n",
    "\n",
    "from time import time as tt\n",
    "\n",
    "x = range(4,24,2)\n",
    "\n",
    "elapsed_times = []\n",
    "for n in x: #range(4,24,2):\n",
    "    t0 = tt()\n",
    "    total = long_sum(n = n)\n",
    "    _ = total.compute()\n",
    "    elapsed_times.append(tt()-t0)\n",
    "    \n",
    "print('done')"
   ]
  },
  {
   "cell_type": "code",
   "execution_count": null,
   "metadata": {
    "id": "sx3HIkP5wUcz"
   },
   "outputs": [],
   "source": [
    "import matplotlib.pyplot as plt\n",
    "\n",
    "plt.plot(x, elapsed_times)\n"
   ]
  },
  {
   "cell_type": "markdown",
   "metadata": {
    "id": "CA8CzOiADEHB"
   },
   "source": [
    "What's happening in your graph? Post your comments in the chat."
   ]
  },
  {
   "cell_type": "markdown",
   "metadata": {
    "id": "wptcuGxo5chJ"
   },
   "source": [
    "## Dask delayed best practices\n",
    "\n",
    "![picture](https://drive.google.com/uc?export=view&id=1UHrvS18W6Kpmln17dvRMPtwZJNfJCD71)\n"
   ]
  },
  {
   "cell_type": "markdown",
   "metadata": {
    "id": "PZk_fj5ryVpi"
   },
   "source": [
    "## Questions?"
   ]
  },
  {
   "cell_type": "code",
   "execution_count": null,
   "metadata": {
    "id": "L3ptgO3uyWwh"
   },
   "outputs": [],
   "source": []
  }
 ],
 "metadata": {
  "colab": {
   "collapsed_sections": [],
   "name": "Dask-tutorial-Mar2021-delayed.ipynb",
   "provenance": []
  },
  "kernelspec": {
   "display_name": "Python 3",
   "language": "python",
   "name": "python3"
  },
  "language_info": {
   "codemirror_mode": {
    "name": "ipython",
    "version": 3
   },
   "file_extension": ".py",
   "mimetype": "text/x-python",
   "name": "python",
   "nbconvert_exporter": "python",
   "pygments_lexer": "ipython3",
   "version": "3.6.9"
  }
 },
 "nbformat": 4,
 "nbformat_minor": 1
}
