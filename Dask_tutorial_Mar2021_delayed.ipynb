{
  "nbformat": 4,
  "nbformat_minor": 0,
  "metadata": {
    "colab": {
      "name": "Dask-tutorial-Mar2021-delayed.ipynb",
      "provenance": [],
      "collapsed_sections": []
    },
    "kernelspec": {
      "name": "python3",
      "display_name": "Python 3"
    }
  },
  "cells": [
    {
      "cell_type": "markdown",
      "metadata": {
        "id": "h82o5fIIOQ53"
      },
      "source": [
        "# Introduction to Dask\r\n",
        "by Dr Stef Garasto\r\n",
        "\r\n",
        "<p>\r\n",
        "Dask is a popular python library for parallel computing. It is designed to integrate easily with existing python code and other common libraries like Numpy and Pandas. During this introductory tutorial you will get to know some fundamental Dask functions, like dask.delayed and dask.dataframe, and workflows. There will also be some hands-on coding exercises for you to practice your newfound Dask knowledge. \r\n",
        "</p>\r\n",
        "\r\n",
        "### References (and sources of inspiration):\r\n",
        "[1] Dask Tutorial by https://github.com/dask/dask-tutorial/\r\n",
        "\r\n",
        "[2] Dask documentation https://docs.dask.org/en/latest/"
      ]
    },
    {
      "cell_type": "markdown",
      "metadata": {
        "id": "OYOpvjnuSQJa"
      },
      "source": [
        "Technical reminder: press shift-enter to execute single cells in this notebook."
      ]
    },
    {
      "cell_type": "markdown",
      "metadata": {
        "id": "vzXmQA-8bhAw"
      },
      "source": [
        "# Setup"
      ]
    },
    {
      "cell_type": "code",
      "metadata": {
        "id": "ZHPSe3jgOKhZ"
      },
      "source": [
        "# Setup\r\n",
        "LOCAL = False\r\n",
        "if not LOCAL:\r\n",
        "    # Install some requirements\r\n",
        "    !pip install snakeviz\r\n",
        "    %pip install \"tornado>=5\" \r\n",
        "    !pip -q install dask\r\n",
        "    !pip -q install distributed\r\n",
        "    #!pip -q install --upgrade --ignore-installed numpy pandas scipy sklearn\r\n",
        "    !pip -q install graphviz \r\n",
        "    !apt-get install graphviz -qq\r\n",
        "    !pip -q install pydot\r\n",
        "    !pip -q install bokeh\r\n"
      ],
      "execution_count": null,
      "outputs": []
    },
    {
      "cell_type": "code",
      "metadata": {
        "id": "7NqVE9F1ML43"
      },
      "source": [
        "if not LOCAL:\r\n",
        "    # to get the data\r\n",
        "    !git clone https://github.com/stefgrs/dask-mini-tutorial"
      ],
      "execution_count": null,
      "outputs": []
    },
    {
      "cell_type": "code",
      "metadata": {
        "id": "ki9CvItHQZIl"
      },
      "source": [
        "# setup the Dask scheduler (just go with it for now!)\r\n",
        "from dask.distributed import Client, progress\r\n",
        "\r\n",
        "client = Client(n_workers=4, processes = False)\r\n",
        "client\r\n",
        "\r\n",
        "#import dask\r\n",
        "#dask.config.set(scheduler='threads')\r\n"
      ],
      "execution_count": null,
      "outputs": []
    },
    {
      "cell_type": "markdown",
      "metadata": {
        "id": "nrMqvx-ZUinS"
      },
      "source": [
        "# Dask delayed\r\n",
        "\r\n",
        "\r\n",
        "dask.delayed is a Dask interface that allows users to parallelise custom algorithms with a light annotation of normal python code."
      ]
    },
    {
      "cell_type": "code",
      "metadata": {
        "id": "w0vItbX4SGkv"
      },
      "source": [
        "from dask import delayed"
      ],
      "execution_count": null,
      "outputs": []
    },
    {
      "cell_type": "code",
      "metadata": {
        "id": "SrI1EqKESGq4"
      },
      "source": [
        "from time import sleep\r\n",
        "\r\n",
        "# define some auxiliary functions - we simulate computational time with the 'sleep' function\r\n",
        "def inc(x):\r\n",
        "    sleep(1)\r\n",
        "    return x + 1\r\n",
        "\r\n",
        "def add(x, y):\r\n",
        "    sleep(1)\r\n",
        "    return x + y\r\n"
      ],
      "execution_count": null,
      "outputs": []
    },
    {
      "cell_type": "markdown",
      "metadata": {
        "id": "beVrGdWyU-Pa"
      },
      "source": [
        "Note: the command '%%time' will measure the time execution of all the python statements in a cell. It prints two values: the CPU time and the Wall time. CPU time is the time that the CPU was busy. Wall time is the overall time that it took for the code to execute (it includes the time the CPU was busy and the time spent waiting)."
      ]
    },
    {
      "cell_type": "code",
      "metadata": {
        "id": "ohILgMQnSGnT"
      },
      "source": [
        "%%time\r\n",
        "# This takes three seconds to run because we call each\r\n",
        "# function sequentially, one after the other\r\n",
        "\r\n",
        "x = inc(1)\r\n",
        "y = inc(2)\r\n",
        "z = add(x, y)\r\n",
        "\r\n",
        "print(f'The final sum is {z}')\r\n"
      ],
      "execution_count": null,
      "outputs": []
    },
    {
      "cell_type": "code",
      "metadata": {
        "id": "IBJyqOR8SGiP"
      },
      "source": [
        "%%time\r\n",
        "# When we use 'delayed' we are telling Dask to perform these computations in a \r\n",
        "# lazy way. Unless explicitely asked, Dask will only build a description of the \r\n",
        "# computations needed to obtain the desired result, but it will not do the \r\n",
        "# computation itself - not yet at least! \r\n",
        "#  \r\n",
        "\r\n",
        "del_x = delayed(inc)(1)\r\n",
        "del_y = delayed(inc)(2)\r\n",
        "del_z = delayed(add)(del_x, del_y)\r\n"
      ],
      "execution_count": null,
      "outputs": []
    },
    {
      "cell_type": "markdown",
      "metadata": {
        "id": "AcqGHLg7M0_0"
      },
      "source": [
        "It didn't take long now, did it?\r\n",
        "But wait..."
      ]
    },
    {
      "cell_type": "code",
      "metadata": {
        "id": "o3HoYd_LBuBo"
      },
      "source": [
        "# What is the difference from before? What do all the variables look like?\r\n",
        "print(f\"Without applying 'delayed' the variables x, y, z are {x}, {y}, {z}\")\r\n",
        "print(f\"Applying 'delayed' the delayed variables x, y, z are {del_x}, {del_y}, {del_z}\")\r\n"
      ],
      "execution_count": null,
      "outputs": []
    },
    {
      "cell_type": "code",
      "metadata": {
        "id": "d1fQme3FSGLI"
      },
      "source": [
        "# What does the computation graph look like?\r\n",
        "\r\n",
        "del_z.visualize()\r\n"
      ],
      "execution_count": null,
      "outputs": []
    },
    {
      "cell_type": "code",
      "metadata": {
        "id": "2llY2d5RSGZ6"
      },
      "source": [
        "# What happens when we tell Dask to execute the computation?\r\n",
        "\r\n",
        "%%time\r\n",
        "z_exec = del_z.compute()\r\n",
        "print(f'The final sum is {z_exec}')\r\n"
      ],
      "execution_count": null,
      "outputs": []
    },
    {
      "cell_type": "code",
      "metadata": {
        "id": "O0o614pR--Hq"
      },
      "source": [
        "'''\r\n",
        "We can use dask.delayed in two different ways:\r\n",
        "- as a wrapper around a function, as we saw in the cell above, i.e. delayed(inc)\r\n",
        "- as a decorator associated with a function, as you can see below in this cell.\r\n",
        "\r\n",
        "When using it as a wrapper, only the instances of a function that are wrapped \r\n",
        "with delayed will actually be delayed.\r\n",
        "When using it as a decorator, all the instances will be delayed.\r\n",
        "\r\n",
        "@delayed\r\n",
        "def inc(x):\r\n",
        "    return x + 1\r\n",
        "\r\n",
        "@delayed\r\n",
        "def add(x, y):\r\n",
        "    return x + y\r\n",
        "'''\r\n",
        "print()\r\n"
      ],
      "execution_count": null,
      "outputs": []
    },
    {
      "cell_type": "markdown",
      "metadata": {
        "id": "bZKVDtuKalJG"
      },
      "source": [
        "If you want to see how Dask visualises what's happening in the background of this computation have a look at [this video](https://www.youtube.com/watch?v=SHqFmynRxVU&feature=youtu.be)."
      ]
    },
    {
      "cell_type": "markdown",
      "metadata": {
        "id": "F5ZuhqEGC6Dv"
      },
      "source": [
        "## Dask delayed hands-on\r\n",
        "\r\n",
        "Over to you with a slightly more complicated example."
      ]
    },
    {
      "cell_type": "markdown",
      "metadata": {
        "id": "gjH-MAlfVWc9"
      },
      "source": [
        "Background:\r\n",
        "\r\n",
        "Let's assume we run an experiment where we split participants in two groups (one with 60% of participants, one with 40%), gave them a test and collected the average score for each group separately.\r\n",
        "We saved these scores in two separate files, and the sizes of the two groups (as proportions, that is 0.6 and 0.4) in two other files. We want to load the numbers from files and compute the weighted average of the\r\n",
        "final group scores.\r\n"
      ]
    },
    {
      "cell_type": "code",
      "metadata": {
        "id": "FkdiRbPwVQBZ"
      },
      "source": [
        "%%time\r\n",
        "# Translated into standard python, we can get the weighted average like this:\r\n",
        "\r\n",
        "data_folder = '' #'dask-mini-tutorial/data/'\r\n",
        "scores_file_names = data_folder + 'score_group{x}.txt'\r\n",
        "weights_file_names = data_folder + 'weight_group{x}.txt'\r\n",
        "\r\n",
        "# defining custom function \r\n",
        "# again we will pretend they are more computationally expensive than they actually are\r\n",
        "def load_value_from_text(file_name):\r\n",
        "    with open(file_name, 'r') as f:\r\n",
        "        data = f.read()\r\n",
        "    sleep(1)\r\n",
        "    return float(data)\r\n",
        "\r\n",
        "def mul(x,y):\r\n",
        "    sleep(1)\r\n",
        "    return x*y\r\n",
        "\r\n",
        "def add_list(input_list):\r\n",
        "    sleep(1)\r\n",
        "    return sum(input_list)\r\n",
        "\r\n",
        "# load numbers from files\r\n",
        "survey_scores = [load_value_from_text(scores_file_names.format(x=i+1)) for i in range(2)]\r\n",
        "survey_weights = [load_value_from_text(weights_file_names.format(x=i+1)) for i in range(2)]\r\n",
        "\r\n",
        "# multiply the average score for each group by the group proportion wrt the total\r\n",
        "# number of participants\r\n",
        "intermediate_scores = []\r\n",
        "for score, weight in zip(survey_scores, survey_weights):\r\n",
        "    intermediate_scores.append(mul(score,weight))\r\n",
        "\r\n",
        "# sum the weighted scores to obtain the weighted average\r\n",
        "total = add_list(intermediate_scores)\r\n",
        "\r\n",
        "# show the result:\r\n",
        "total\r\n"
      ],
      "execution_count": null,
      "outputs": []
    },
    {
      "cell_type": "markdown",
      "metadata": {
        "id": "2IBHoOCKU7wx"
      },
      "source": [
        "### Exercise 1: apply delayed to the computation\r\n",
        "\r\n",
        "Will give you a few minutes to write your code, then I will show the solution."
      ]
    },
    {
      "cell_type": "code",
      "metadata": {
        "id": "k6fa3aZnUzVC"
      },
      "source": [
        "%%time\r\n",
        "# load numbers from files\r\n",
        "survey_scores = [delayed(load_value_from_text)(scores_file_names.format(x=i+1)) for i in range(2)]\r\n",
        "survey_weights = [delayed(load_value_from_text)(weights_file_names.format(x=i+1)) for i in range(2)]\r\n",
        "\r\n",
        "# multiply the average score for each group by the group proportion wrt the total\r\n",
        "# number of participants\r\n",
        "intermediate_scores = []\r\n",
        "for score, weight in zip(survey_scores, survey_weights):\r\n",
        "    intermediate_scores.append(delayed(mul)(score,weight))\r\n",
        "\r\n",
        "# sum the weighted scores to obtain the weighted average\r\n",
        "total = delayed(add_list)(intermediate_scores)\r\n"
      ],
      "execution_count": null,
      "outputs": []
    },
    {
      "cell_type": "markdown",
      "metadata": {
        "id": "ITfBSmM8Vrdt"
      },
      "source": [
        "### Excercise 2: what does the computation graph look like?\r\n",
        "Is it graph A or graph B? Post your answers in the chat.\r\n",
        "\r\n",
        "![picture](https://drive.google.com/uc?export=view&id=1IAhtcSphBaLUIfViTknBMjMtIBk-LHXG)"
      ]
    },
    {
      "cell_type": "code",
      "metadata": {
        "id": "0nXIjvSEOrZN"
      },
      "source": [
        "# let's see what it looks like\r\n",
        "total.visualize()\r\n"
      ],
      "execution_count": null,
      "outputs": []
    },
    {
      "cell_type": "markdown",
      "metadata": {
        "id": "wk_u_FbVVzeJ"
      },
      "source": [
        "### Excercise 3: how long do you think Dask will take to compute the results?\r\n",
        "Post your answers in the chat"
      ]
    },
    {
      "cell_type": "code",
      "metadata": {
        "id": "dOdYSWp0OA0J"
      },
      "source": [
        "%%time\r\n",
        "# let's see how long it'll take\r\n",
        "total.compute()\r\n"
      ],
      "execution_count": null,
      "outputs": []
    },
    {
      "cell_type": "markdown",
      "metadata": {
        "id": "L23XqTi_Epwk"
      },
      "source": [
        "## dask.delayed notes\r\n",
        "\r\n",
        "\r\n",
        "1. Operations that are supported on delayed objects include the following:\r\n",
        "\r\n",
        "\r\n",
        "*   If x is a delayed result, then performing arithmetic operations on it also produces a delayed result.\r\n",
        "*   Slicing a delayed object also produces a delayed object.\r\n",
        "*   If x is a delayed object with methods and attributes we can access, those will also be delayed objects.\r\n",
        "\r\n",
        "2.   Operations which are not supported include iteration (for) and bool (predicate).\r\n",
        "\r\n",
        "3.   Calling delayed_obj.compute() works well for single outputs, but for multiple outputs it might be best to use the dask.compute function.\r\n",
        "\r\n",
        "So, for example...\r\n"
      ]
    },
    {
      "cell_type": "code",
      "metadata": {
        "id": "bI89FS0-EsYk"
      },
      "source": [
        "import numpy as np\r\n",
        "# let's get our old friends back...\r\n",
        "del_x = delayed(inc)(1)\r\n",
        "del_y = delayed(inc)(2)\r\n",
        "del_z = delayed(add)(del_x, del_y)\r\n",
        "\r\n",
        "# ... and some new ones\r\n",
        "del_range = delayed(np.arange)(10)\r\n"
      ],
      "execution_count": null,
      "outputs": []
    },
    {
      "cell_type": "code",
      "metadata": {
        "id": "8Rv-Sikjin0Y"
      },
      "source": [
        "# let's check what's still a delayed object\r\n",
        "# arithmetic operations\r\n",
        "print(type(del_z+1))\r\n",
        "print(type(del_z*10))\r\n",
        "\r\n",
        "# method calls\r\n",
        "print(type(del_range.shape))\r\n",
        "\r\n",
        "# slicing\r\n",
        "print(type(del_range[::2]))\r\n"
      ],
      "execution_count": null,
      "outputs": []
    },
    {
      "cell_type": "code",
      "metadata": {
        "id": "9JKLMoL2jmvR"
      },
      "source": [
        "from dask import compute\r\n",
        "\r\n",
        "def sleeping_square(x):\r\n",
        "    sleep(1)\r\n",
        "    return x ** 2\r\n",
        "\r\n",
        "square_range = delayed(sleeping_square)(np.arange(10))\r\n",
        "square_range\r\n"
      ],
      "execution_count": null,
      "outputs": []
    },
    {
      "cell_type": "code",
      "metadata": {
        "id": "Yi3RXyt6kcz8"
      },
      "source": [
        "%%time\r\n",
        "#calling compute this way means that Dask can make good use of shared intermediate values\r\n",
        "del_min, del_max = compute(square_range.min(), square_range.max()) \r\n",
        "\r\n",
        "print(f'Min: {del_min}, Max: {del_max}')\r\n"
      ],
      "execution_count": null,
      "outputs": []
    },
    {
      "cell_type": "code",
      "metadata": {
        "id": "lHITEr4vkdG4"
      },
      "source": [
        "%%time\r\n",
        "#compare with this:\r\n",
        "del_min2, del_max2 = (square_range.min().compute(), square_range.max().compute())\r\n"
      ],
      "execution_count": null,
      "outputs": []
    },
    {
      "cell_type": "markdown",
      "metadata": {
        "id": "pUy8keg3C2HO"
      },
      "source": [
        "What <b>can't</b> we apply dask.delayed to?\r\n",
        "\r\n",
        "In order to build the computation graph, dask needs to know what function it has to call.\r\n",
        "\r\n",
        "When the choice of the function to use depend on a boolean condition (True or False), then Dask only knows which function to use if it knows the outcome of the boolean condition. If this is the case, do you think we can call delayed on the boolean function as well?\r\n",
        "\r\n",
        "Let's see..."
      ]
    },
    {
      "cell_type": "code",
      "metadata": {
        "collapsed": true,
        "id": "1i0-81sMXHC1"
      },
      "source": [
        "# Let's consider this conditional for loop\r\n",
        "%%time\r\n",
        "def is_even(x):\r\n",
        "    return x % 2\r\n",
        "\r\n",
        "intermediate_res = []\r\n",
        "for i in range(10):\r\n",
        "    if is_even(i):\r\n",
        "        y = inc(i)\r\n",
        "    else:\r\n",
        "        y = sleeping_square(i)\r\n",
        "    intermediate_res.append(y)\r\n",
        "\r\n",
        "total = sum(intermediate_res)\r\n"
      ],
      "execution_count": null,
      "outputs": []
    },
    {
      "cell_type": "code",
      "metadata": {
        "id": "vzguONDxtCpU"
      },
      "source": [
        "# First, let's parallelise it using dask.delayed\r\n",
        "# try it out for yourself!\r\n",
        "%%time\r\n",
        "intermediate_res = []\r\n",
        "for i in range(6):\r\n",
        "    if is_even(i):\r\n",
        "        y = delayed(inc)(i)\r\n",
        "    else:\r\n",
        "        y = delayed(sleeping_square)(i)\r\n",
        "    intermediate_res.append(y)\r\n",
        "\r\n",
        "#total = delayed(sum)(intermediate_res)\r\n",
        "total = delayed(sum)(intermediate_res)\r\n"
      ],
      "execution_count": null,
      "outputs": []
    },
    {
      "cell_type": "code",
      "metadata": {
        "id": "M_4GcbRPtpFG"
      },
      "source": [
        "# what does the graph look like?\r\n",
        "total.visualize()\r\n"
      ],
      "execution_count": null,
      "outputs": []
    },
    {
      "cell_type": "code",
      "metadata": {
        "id": "DDmEi0eitY9m"
      },
      "source": [
        "# how long does the computation take?\r\n",
        "%%time\r\n",
        "total.compute()\r\n"
      ],
      "execution_count": null,
      "outputs": []
    },
    {
      "cell_type": "code",
      "metadata": {
        "id": "y7whvrJyx22n"
      },
      "source": [
        "# What would have happened if we had tried to call delayed on the if condition?\r\n",
        "intermediate_res = []\r\n",
        "for i in range(6):\r\n",
        "    if delayed(is_even)(i):\r\n",
        "        y = delayed(inc)(i)\r\n",
        "    else:\r\n",
        "        y = delayed(sleeping_square)(i)\r\n",
        "    intermediate_res.append(y)\r\n",
        "\r\n",
        "#total = delayed(sum)(intermediate_res)\r\n",
        "total = delayed(sum)(intermediate_res)\r\n"
      ],
      "execution_count": null,
      "outputs": []
    },
    {
      "cell_type": "markdown",
      "metadata": {
        "id": "c_mozwaTDDI8"
      },
      "source": [
        "## The speed-up of dask delayed is hardware dependent"
      ]
    },
    {
      "cell_type": "code",
      "metadata": {
        "id": "6FUykvZgwQdW"
      },
      "source": [
        "def long_sum(n = 10):\r\n",
        "    intermediate_res = []\r\n",
        "    for i in range(n):\r\n",
        "        if is_even(i):\r\n",
        "            y = delayed(inc)(i)\r\n",
        "        else:\r\n",
        "            y = delayed(sleeping_square)(i)\r\n",
        "        intermediate_res.append(y)\r\n",
        "\r\n",
        "    total = delayed(sum)(intermediate_res)\r\n",
        "    return total\r\n",
        "\r\n",
        "from time import time as tt\r\n",
        "\r\n",
        "x = range(4,24,2)\r\n",
        "\r\n",
        "elapsed_times = []\r\n",
        "for n in x: #range(4,24,2):\r\n",
        "    t0 = tt()\r\n",
        "    total = long_sum(n = n)\r\n",
        "    _ = total.compute()\r\n",
        "    elapsed_times.append(tt()-t0)\r\n",
        "    \r\n",
        "print('done')"
      ],
      "execution_count": null,
      "outputs": []
    },
    {
      "cell_type": "code",
      "metadata": {
        "id": "sx3HIkP5wUcz"
      },
      "source": [
        "import matplotlib.pyplot as plt\r\n",
        "\r\n",
        "plt.plot(x, elapsed_times)\r\n"
      ],
      "execution_count": null,
      "outputs": []
    },
    {
      "cell_type": "markdown",
      "metadata": {
        "id": "CA8CzOiADEHB"
      },
      "source": [
        "What's happening in your graph? Post your comments in the chat."
      ]
    },
    {
      "cell_type": "markdown",
      "metadata": {
        "id": "wptcuGxo5chJ"
      },
      "source": [
        "# Dask delayed best practices\r\n",
        "\r\n",
        "![picture](https://drive.google.com/uc?export=view&id=1UHrvS18W6Kpmln17dvRMPtwZJNfJCD71)\r\n"
      ]
    },
    {
      "cell_type": "markdown",
      "metadata": {
        "id": "PZk_fj5ryVpi"
      },
      "source": [
        "## Questions?"
      ]
    },
    {
      "cell_type": "code",
      "metadata": {
        "id": "L3ptgO3uyWwh"
      },
      "source": [
        ""
      ],
      "execution_count": null,
      "outputs": []
    }
  ]
}